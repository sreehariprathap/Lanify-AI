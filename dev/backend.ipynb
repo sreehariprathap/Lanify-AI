{
 "cells": [
  {
   "metadata": {},
   "cell_type": "markdown",
   "source": "## Start the backend server",
   "id": "aae4ffd2e97205e"
  },
  {
   "metadata": {
    "ExecuteTime": {
     "end_time": "2025-02-06T15:37:09.047264Z",
     "start_time": "2025-02-06T15:37:09.036801Z"
    }
   },
   "cell_type": "code",
   "source": [
    "import os\n",
    "import signal\n",
    "import subprocess\n",
    "import sys\n",
    "\n",
    "is_windows = sys.platform.startswith('win')\n",
    "\n",
    "\n",
    "def stop_server(process=None):\n",
    "  # kill by pid if process is provided\n",
    "  if process:\n",
    "    if is_windows:  # windows\n",
    "      subprocess.run([\"taskkill\", \"/F\", \"/T\", \"/PID\", str(process.pid)], stdout=subprocess.DEVNULL,\n",
    "                     stderr=subprocess.DEVNULL)\n",
    "    else:  # mac / linux\n",
    "      os.killpg(os.getpgid(process.pid), signal.SIGTERM)\n",
    "    return\n",
    "\n",
    "  # otherwise, kill by process name\n",
    "  if is_windows:  # windows\n",
    "    subprocess.run([\"taskkill\", \"/F\", \"/IM\", \"python.exe\"], stdout=subprocess.DEVNULL, stderr=subprocess.DEVNULL)\n",
    "  else:  # mac / linux\n",
    "    subprocess.run(\"pkill -f 'python app.py'\", shell=True, stdout=subprocess.DEVNULL, stderr=subprocess.DEVNULL)\n",
    "\n",
    "\n",
    "def start_server():\n",
    "  stop_server()\n",
    "\n",
    "  if is_windows:  # Windows\n",
    "    return subprocess.Popen([\"python\", \"app.py\"], creationflags=subprocess.CREATE_NEW_PROCESS_GROUP)\n",
    "  else:  # macOS / Linux\n",
    "    return subprocess.Popen([\"python\", \"app.py\"], preexec_fn=os.setsid)"
   ],
   "id": "9cc3b932a9a81846",
   "outputs": [],
   "execution_count": 110
  },
  {
   "metadata": {
    "collapsed": true,
    "ExecuteTime": {
     "end_time": "2025-02-06T15:37:11.125855Z",
     "start_time": "2025-02-06T15:37:09.064605Z"
    }
   },
   "cell_type": "code",
   "source": [
    "import time\n",
    "\n",
    "flask_process = start_server()\n",
    "\n",
    "# Wait for the server to start\n",
    "time.sleep(2)"
   ],
   "id": "initial_id",
   "outputs": [
    {
     "name": "stderr",
     "output_type": "stream",
     "text": [
      "[2025-02-06 10:37:09,417] INFO in app: API Documentation: http://0.0.0.0:8080/swagger-ui\n",
      "\u001B[31m\u001B[1mWARNING: This is a development server. Do not use it in a production deployment. Use a production WSGI server instead.\u001B[0m\n",
      " * Running on all addresses (0.0.0.0)\n",
      " * Running on http://127.0.0.1:8080\n",
      " * Running on http://192.0.0.2:8080\n",
      "\u001B[33mPress CTRL+C to quit\u001B[0m\n",
      " * Restarting with stat\n"
     ]
    },
    {
     "name": "stdout",
     "output_type": "stream",
     "text": [
      " * Serving Flask app 'Lanify'\n",
      " * Debug mode: on\n"
     ]
    },
    {
     "name": "stderr",
     "output_type": "stream",
     "text": [
      "[2025-02-06 10:37:09,773] INFO in app: API Documentation: http://0.0.0.0:8080/swagger-ui\n",
      " * Debugger is active!\n",
      " * Debugger PIN: 771-311-940\n"
     ]
    }
   ],
   "execution_count": 111
  },
  {
   "metadata": {},
   "cell_type": "markdown",
   "source": "## Call the API",
   "id": "e25ed6076b9f5fc7"
  },
  {
   "metadata": {
    "ExecuteTime": {
     "end_time": "2025-02-06T15:37:11.136602Z",
     "start_time": "2025-02-06T15:37:11.134462Z"
    }
   },
   "cell_type": "code",
   "source": [
    "import requests\n",
    "\n",
    "api_url = \"http://localhost:8080/api/service\""
   ],
   "id": "4e7ec8b89747343a",
   "outputs": [],
   "execution_count": 112
  },
  {
   "metadata": {
    "ExecuteTime": {
     "end_time": "2025-02-06T15:37:11.160929Z",
     "start_time": "2025-02-06T15:37:11.148944Z"
    }
   },
   "cell_type": "code",
   "source": [
    "# list all students\n",
    "requests.get(api_url).json()"
   ],
   "id": "51279c6c7a56994e",
   "outputs": [
    {
     "name": "stderr",
     "output_type": "stream",
     "text": [
      "127.0.0.1 - - [06/Feb/2025 10:37:11] \"GET /api/service HTTP/1.1\" 200 -\n"
     ]
    },
    {
     "data": {
      "text/plain": [
       "[{'id': 1, 'name': 'Avtar Singh', 'student_number': 9011038},\n",
       " {'id': 2, 'name': 'Bhupesh Kumar', 'student_number': 8968337},\n",
       " {'id': 3, 'name': 'Sreehari Prathap', 'student_number': 8903199},\n",
       " {'id': 4, 'name': 'Zheming Li', 'student_number': 8914152},\n",
       " {'id': 5, 'name': 'Alice', 'student_number': 100000}]"
      ]
     },
     "execution_count": 113,
     "metadata": {},
     "output_type": "execute_result"
    }
   ],
   "execution_count": 113
  },
  {
   "metadata": {
    "ExecuteTime": {
     "end_time": "2025-02-06T15:37:11.187842Z",
     "start_time": "2025-02-06T15:37:11.180602Z"
    }
   },
   "cell_type": "code",
   "source": [
    "# search for students whose name contains \"a\" and student number contains 90\n",
    "requests.get(api_url, params={\"name\": \"a\", \"student_number\": 90}).json()"
   ],
   "id": "fb4ea5cd955888eb",
   "outputs": [
    {
     "name": "stderr",
     "output_type": "stream",
     "text": [
      "127.0.0.1 - - [06/Feb/2025 10:37:11] \"GET /api/service?name=a&student_number=90 HTTP/1.1\" 200 -\n"
     ]
    },
    {
     "data": {
      "text/plain": [
       "[{'id': 1, 'name': 'Avtar Singh', 'student_number': 9011038},\n",
       " {'id': 3, 'name': 'Sreehari Prathap', 'student_number': 8903199}]"
      ]
     },
     "execution_count": 114,
     "metadata": {},
     "output_type": "execute_result"
    }
   ],
   "execution_count": 114
  },
  {
   "metadata": {
    "ExecuteTime": {
     "end_time": "2025-02-06T15:37:11.230447Z",
     "start_time": "2025-02-06T15:37:11.227483Z"
    }
   },
   "cell_type": "code",
   "source": "stop_server(flask_process)",
   "id": "9dfddfac18268e77",
   "outputs": [],
   "execution_count": 115
  }
 ],
 "metadata": {
  "kernelspec": {
   "display_name": "Python 3",
   "language": "python",
   "name": "python3"
  },
  "language_info": {
   "codemirror_mode": {
    "name": "ipython",
    "version": 2
   },
   "file_extension": ".py",
   "mimetype": "text/x-python",
   "name": "python",
   "nbconvert_exporter": "python",
   "pygments_lexer": "ipython2",
   "version": "2.7.6"
  }
 },
 "nbformat": 4,
 "nbformat_minor": 5
}
